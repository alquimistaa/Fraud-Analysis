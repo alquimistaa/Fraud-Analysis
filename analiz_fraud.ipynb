{
 "cells": [
  {
   "cell_type": "code",
   "execution_count": 1,
   "id": "56fd7c2b",
   "metadata": {},
   "outputs": [],
   "source": [
    "import pandas as pd\n",
    "import numpy as np\n",
    "import matplotlib.pyplot as plt\n",
    "import seaborn as sns\n"
   ]
  },
  {
   "cell_type": "code",
   "execution_count": 2,
   "id": "09705206",
   "metadata": {},
   "outputs": [
    {
     "name": "stderr",
     "output_type": "stream",
     "text": [
      "C:\\Users\\qmind\\AppData\\Local\\Temp\\ipykernel_8124\\3404481124.py:1: DtypeWarning: Columns (19) have mixed types. Specify dtype option on import or set low_memory=False.\n",
      "  df=pd.read_csv(\"DS Classification Case Data.csv\")\n"
     ]
    }
   ],
   "source": [
    "df=pd.read_csv(\"DS Classification Case Data.csv\")"
   ]
  },
  {
   "cell_type": "markdown",
   "id": "06b8f9cf",
   "metadata": {},
   "source": [
    "Veriye genel bakış:"
   ]
  },
  {
   "cell_type": "code",
   "execution_count": 3,
   "id": "b0d4c71b",
   "metadata": {},
   "outputs": [
    {
     "data": {
      "text/html": [
       "<div>\n",
       "<style scoped>\n",
       "    .dataframe tbody tr th:only-of-type {\n",
       "        vertical-align: middle;\n",
       "    }\n",
       "\n",
       "    .dataframe tbody tr th {\n",
       "        vertical-align: top;\n",
       "    }\n",
       "\n",
       "    .dataframe thead th {\n",
       "        text-align: right;\n",
       "    }\n",
       "</style>\n",
       "<table border=\"1\" class=\"dataframe\">\n",
       "  <thead>\n",
       "    <tr style=\"text-align: right;\">\n",
       "      <th></th>\n",
       "      <th>payment_id</th>\n",
       "      <th>payment_date</th>\n",
       "      <th>payment_type</th>\n",
       "      <th>payment_channel</th>\n",
       "      <th>payment_group</th>\n",
       "      <th>price</th>\n",
       "      <th>payment_currency</th>\n",
       "      <th>merchant_id</th>\n",
       "      <th>payment_source_id</th>\n",
       "      <th>installment</th>\n",
       "      <th>...</th>\n",
       "      <th>merchant_onboarding_source</th>\n",
       "      <th>merchant_source_name</th>\n",
       "      <th>settlement_period</th>\n",
       "      <th>blockage_day_count</th>\n",
       "      <th>merchant_work_beginning_date</th>\n",
       "      <th>merchant_city</th>\n",
       "      <th>merchant_company_type</th>\n",
       "      <th>merchant_register_date</th>\n",
       "      <th>merchant_segment</th>\n",
       "      <th>is_fraud_transaction</th>\n",
       "    </tr>\n",
       "  </thead>\n",
       "  <tbody>\n",
       "    <tr>\n",
       "      <th>0</th>\n",
       "      <td>2334829</td>\n",
       "      <td>2024-09-03 14:44:15.941</td>\n",
       "      <td>CARD_PAYMENT</td>\n",
       "      <td>MOBILE</td>\n",
       "      <td>SUBSCRIPTION</td>\n",
       "      <td>1979.308310</td>\n",
       "      <td>TRY</td>\n",
       "      <td>2</td>\n",
       "      <td>1.0</td>\n",
       "      <td>1</td>\n",
       "      <td>...</td>\n",
       "      <td>MerchantOnboardingSource_1</td>\n",
       "      <td>MerchantSource_3</td>\n",
       "      <td>1</td>\n",
       "      <td>15</td>\n",
       "      <td>2015-07-13</td>\n",
       "      <td>İstanbul</td>\n",
       "      <td>MerchantCompanyType_2</td>\n",
       "      <td>2016-02-12 14:06:21.000</td>\n",
       "      <td>MerchantSegment_1</td>\n",
       "      <td>0</td>\n",
       "    </tr>\n",
       "    <tr>\n",
       "      <th>1</th>\n",
       "      <td>2334753</td>\n",
       "      <td>2024-09-03 14:40:30.641</td>\n",
       "      <td>CARD_PAYMENT</td>\n",
       "      <td>MOBILE</td>\n",
       "      <td>SUBSCRIPTION</td>\n",
       "      <td>2103.926111</td>\n",
       "      <td>TRY</td>\n",
       "      <td>2</td>\n",
       "      <td>1.0</td>\n",
       "      <td>1</td>\n",
       "      <td>...</td>\n",
       "      <td>MerchantOnboardingSource_1</td>\n",
       "      <td>MerchantSource_3</td>\n",
       "      <td>1</td>\n",
       "      <td>15</td>\n",
       "      <td>2015-07-13</td>\n",
       "      <td>İstanbul</td>\n",
       "      <td>MerchantCompanyType_2</td>\n",
       "      <td>2016-02-12 14:06:21.000</td>\n",
       "      <td>MerchantSegment_1</td>\n",
       "      <td>0</td>\n",
       "    </tr>\n",
       "    <tr>\n",
       "      <th>2</th>\n",
       "      <td>1148645</td>\n",
       "      <td>2024-07-17 21:50:05.865</td>\n",
       "      <td>CARD_PAYMENT</td>\n",
       "      <td>WEB</td>\n",
       "      <td>PRODUCT</td>\n",
       "      <td>160.762358</td>\n",
       "      <td>TRY</td>\n",
       "      <td>34</td>\n",
       "      <td>1.0</td>\n",
       "      <td>1</td>\n",
       "      <td>...</td>\n",
       "      <td>MerchantOnboardingSource_1</td>\n",
       "      <td>MerchantSource_2</td>\n",
       "      <td>1</td>\n",
       "      <td>7</td>\n",
       "      <td>2020-09-22</td>\n",
       "      <td>İstanbul</td>\n",
       "      <td>MerchantCompanyType_2</td>\n",
       "      <td>2021-02-19 14:59:50.000</td>\n",
       "      <td>MerchantSegment_1</td>\n",
       "      <td>0</td>\n",
       "    </tr>\n",
       "    <tr>\n",
       "      <th>3</th>\n",
       "      <td>393595</td>\n",
       "      <td>2024-06-15 22:41:50.741</td>\n",
       "      <td>CARD_PAYMENT</td>\n",
       "      <td>WEB</td>\n",
       "      <td>PRODUCT</td>\n",
       "      <td>1.078942</td>\n",
       "      <td>TRY</td>\n",
       "      <td>34</td>\n",
       "      <td>1.0</td>\n",
       "      <td>1</td>\n",
       "      <td>...</td>\n",
       "      <td>MerchantOnboardingSource_1</td>\n",
       "      <td>MerchantSource_2</td>\n",
       "      <td>1</td>\n",
       "      <td>7</td>\n",
       "      <td>2020-09-22</td>\n",
       "      <td>İstanbul</td>\n",
       "      <td>MerchantCompanyType_2</td>\n",
       "      <td>2021-02-19 14:59:50.000</td>\n",
       "      <td>MerchantSegment_1</td>\n",
       "      <td>0</td>\n",
       "    </tr>\n",
       "    <tr>\n",
       "      <th>4</th>\n",
       "      <td>1095949</td>\n",
       "      <td>2024-07-15 22:15:06.646</td>\n",
       "      <td>CARD_PAYMENT</td>\n",
       "      <td>WEB</td>\n",
       "      <td>PRODUCT</td>\n",
       "      <td>160.762358</td>\n",
       "      <td>TRY</td>\n",
       "      <td>34</td>\n",
       "      <td>1.0</td>\n",
       "      <td>1</td>\n",
       "      <td>...</td>\n",
       "      <td>MerchantOnboardingSource_1</td>\n",
       "      <td>MerchantSource_2</td>\n",
       "      <td>1</td>\n",
       "      <td>7</td>\n",
       "      <td>2020-09-22</td>\n",
       "      <td>İstanbul</td>\n",
       "      <td>MerchantCompanyType_2</td>\n",
       "      <td>2021-02-19 14:59:50.000</td>\n",
       "      <td>MerchantSegment_1</td>\n",
       "      <td>0</td>\n",
       "    </tr>\n",
       "  </tbody>\n",
       "</table>\n",
       "<p>5 rows × 33 columns</p>\n",
       "</div>"
      ],
      "text/plain": [
       "   payment_id             payment_date  payment_type payment_channel  \\\n",
       "0     2334829  2024-09-03 14:44:15.941  CARD_PAYMENT          MOBILE   \n",
       "1     2334753  2024-09-03 14:40:30.641  CARD_PAYMENT          MOBILE   \n",
       "2     1148645  2024-07-17 21:50:05.865  CARD_PAYMENT             WEB   \n",
       "3      393595  2024-06-15 22:41:50.741  CARD_PAYMENT             WEB   \n",
       "4     1095949  2024-07-15 22:15:06.646  CARD_PAYMENT             WEB   \n",
       "\n",
       "  payment_group        price payment_currency  merchant_id  payment_source_id  \\\n",
       "0  SUBSCRIPTION  1979.308310              TRY            2                1.0   \n",
       "1  SUBSCRIPTION  2103.926111              TRY            2                1.0   \n",
       "2       PRODUCT   160.762358              TRY           34                1.0   \n",
       "3       PRODUCT     1.078942              TRY           34                1.0   \n",
       "4       PRODUCT   160.762358              TRY           34                1.0   \n",
       "\n",
       "   installment  ...  merchant_onboarding_source merchant_source_name  \\\n",
       "0            1  ...  MerchantOnboardingSource_1     MerchantSource_3   \n",
       "1            1  ...  MerchantOnboardingSource_1     MerchantSource_3   \n",
       "2            1  ...  MerchantOnboardingSource_1     MerchantSource_2   \n",
       "3            1  ...  MerchantOnboardingSource_1     MerchantSource_2   \n",
       "4            1  ...  MerchantOnboardingSource_1     MerchantSource_2   \n",
       "\n",
       "  settlement_period  blockage_day_count  merchant_work_beginning_date  \\\n",
       "0                 1                  15                    2015-07-13   \n",
       "1                 1                  15                    2015-07-13   \n",
       "2                 1                   7                    2020-09-22   \n",
       "3                 1                   7                    2020-09-22   \n",
       "4                 1                   7                    2020-09-22   \n",
       "\n",
       "   merchant_city  merchant_company_type   merchant_register_date  \\\n",
       "0       İstanbul  MerchantCompanyType_2  2016-02-12 14:06:21.000   \n",
       "1       İstanbul  MerchantCompanyType_2  2016-02-12 14:06:21.000   \n",
       "2       İstanbul  MerchantCompanyType_2  2021-02-19 14:59:50.000   \n",
       "3       İstanbul  MerchantCompanyType_2  2021-02-19 14:59:50.000   \n",
       "4       İstanbul  MerchantCompanyType_2  2021-02-19 14:59:50.000   \n",
       "\n",
       "    merchant_segment is_fraud_transaction  \n",
       "0  MerchantSegment_1                    0  \n",
       "1  MerchantSegment_1                    0  \n",
       "2  MerchantSegment_1                    0  \n",
       "3  MerchantSegment_1                    0  \n",
       "4  MerchantSegment_1                    0  \n",
       "\n",
       "[5 rows x 33 columns]"
      ]
     },
     "execution_count": 3,
     "metadata": {},
     "output_type": "execute_result"
    }
   ],
   "source": [
    "df.head()"
   ]
  },
  {
   "cell_type": "code",
   "execution_count": 4,
   "id": "47489710",
   "metadata": {},
   "outputs": [
    {
     "data": {
      "text/plain": [
       "(3120010, 33)"
      ]
     },
     "execution_count": 4,
     "metadata": {},
     "output_type": "execute_result"
    }
   ],
   "source": [
    "df.shape"
   ]
  },
  {
   "cell_type": "code",
   "execution_count": 5,
   "id": "f412c89c",
   "metadata": {},
   "outputs": [
    {
     "name": "stdout",
     "output_type": "stream",
     "text": [
      "<class 'pandas.core.frame.DataFrame'>\n",
      "RangeIndex: 3120010 entries, 0 to 3120009\n",
      "Data columns (total 33 columns):\n",
      " #   Column                        Dtype  \n",
      "---  ------                        -----  \n",
      " 0   payment_id                    int64  \n",
      " 1   payment_date                  object \n",
      " 2   payment_type                  object \n",
      " 3   payment_channel               object \n",
      " 4   payment_group                 object \n",
      " 5   price                         float64\n",
      " 6   payment_currency              object \n",
      " 7   merchant_id                   int64  \n",
      " 8   payment_source_id             float64\n",
      " 9   installment                   int64  \n",
      " 10  card_type                     object \n",
      " 11  card_association              object \n",
      " 12  card_family                   object \n",
      " 13  bin_number                    int64  \n",
      " 14  last_four_digits              int64  \n",
      " 15  is_threeds                    int64  \n",
      " 16  buyer_name                    object \n",
      " 17  buyer_surname                 object \n",
      " 18  buyer_email                   object \n",
      " 19  buyer_gsm                     object \n",
      " 20  buyer_city                    object \n",
      " 21  buyer_country                 object \n",
      " 22  merchant_type                 object \n",
      " 23  merchant_onboarding_source    object \n",
      " 24  merchant_source_name          object \n",
      " 25  settlement_period             int64  \n",
      " 26  blockage_day_count            int64  \n",
      " 27  merchant_work_beginning_date  object \n",
      " 28  merchant_city                 object \n",
      " 29  merchant_company_type         object \n",
      " 30  merchant_register_date        object \n",
      " 31  merchant_segment              object \n",
      " 32  is_fraud_transaction          int64  \n",
      "dtypes: float64(2), int64(9), object(22)\n",
      "memory usage: 785.5+ MB\n"
     ]
    }
   ],
   "source": [
    "df.info()"
   ]
  },
  {
   "cell_type": "code",
   "execution_count": 6,
   "id": "3d0539c4",
   "metadata": {},
   "outputs": [
    {
     "data": {
      "text/html": [
       "<div>\n",
       "<style scoped>\n",
       "    .dataframe tbody tr th:only-of-type {\n",
       "        vertical-align: middle;\n",
       "    }\n",
       "\n",
       "    .dataframe tbody tr th {\n",
       "        vertical-align: top;\n",
       "    }\n",
       "\n",
       "    .dataframe thead th {\n",
       "        text-align: right;\n",
       "    }\n",
       "</style>\n",
       "<table border=\"1\" class=\"dataframe\">\n",
       "  <thead>\n",
       "    <tr style=\"text-align: right;\">\n",
       "      <th></th>\n",
       "      <th>count</th>\n",
       "      <th>mean</th>\n",
       "      <th>std</th>\n",
       "      <th>min</th>\n",
       "      <th>25%</th>\n",
       "      <th>50%</th>\n",
       "      <th>75%</th>\n",
       "      <th>max</th>\n",
       "    </tr>\n",
       "  </thead>\n",
       "  <tbody>\n",
       "    <tr>\n",
       "      <th>payment_id</th>\n",
       "      <td>3120010.0</td>\n",
       "      <td>1560005.50</td>\n",
       "      <td>900669.45</td>\n",
       "      <td>1.00</td>\n",
       "      <td>780003.25</td>\n",
       "      <td>1560005.50</td>\n",
       "      <td>2340007.75</td>\n",
       "      <td>3.120010e+06</td>\n",
       "    </tr>\n",
       "    <tr>\n",
       "      <th>price</th>\n",
       "      <td>3120010.0</td>\n",
       "      <td>1783.29</td>\n",
       "      <td>6628.79</td>\n",
       "      <td>0.01</td>\n",
       "      <td>90.63</td>\n",
       "      <td>160.76</td>\n",
       "      <td>517.88</td>\n",
       "      <td>2.121984e+06</td>\n",
       "    </tr>\n",
       "    <tr>\n",
       "      <th>merchant_id</th>\n",
       "      <td>3120010.0</td>\n",
       "      <td>19.52</td>\n",
       "      <td>21.39</td>\n",
       "      <td>1.00</td>\n",
       "      <td>2.00</td>\n",
       "      <td>2.00</td>\n",
       "      <td>34.00</td>\n",
       "      <td>7.700000e+01</td>\n",
       "    </tr>\n",
       "    <tr>\n",
       "      <th>payment_source_id</th>\n",
       "      <td>3120000.0</td>\n",
       "      <td>4297562.17</td>\n",
       "      <td>20283383.65</td>\n",
       "      <td>1.00</td>\n",
       "      <td>1.00</td>\n",
       "      <td>1.00</td>\n",
       "      <td>1.00</td>\n",
       "      <td>1.000311e+08</td>\n",
       "    </tr>\n",
       "    <tr>\n",
       "      <th>installment</th>\n",
       "      <td>3120010.0</td>\n",
       "      <td>1.31</td>\n",
       "      <td>1.27</td>\n",
       "      <td>0.00</td>\n",
       "      <td>1.00</td>\n",
       "      <td>1.00</td>\n",
       "      <td>1.00</td>\n",
       "      <td>1.200000e+01</td>\n",
       "    </tr>\n",
       "    <tr>\n",
       "      <th>bin_number</th>\n",
       "      <td>3120010.0</td>\n",
       "      <td>521327.64</td>\n",
       "      <td>286982.75</td>\n",
       "      <td>100111.00</td>\n",
       "      <td>220245.00</td>\n",
       "      <td>596077.00</td>\n",
       "      <td>760208.00</td>\n",
       "      <td>9.996770e+05</td>\n",
       "    </tr>\n",
       "    <tr>\n",
       "      <th>last_four_digits</th>\n",
       "      <td>3120010.0</td>\n",
       "      <td>5454.65</td>\n",
       "      <td>2599.04</td>\n",
       "      <td>1000.00</td>\n",
       "      <td>3209.00</td>\n",
       "      <td>5437.00</td>\n",
       "      <td>7657.00</td>\n",
       "      <td>9.998000e+03</td>\n",
       "    </tr>\n",
       "    <tr>\n",
       "      <th>is_threeds</th>\n",
       "      <td>3120010.0</td>\n",
       "      <td>0.59</td>\n",
       "      <td>0.49</td>\n",
       "      <td>0.00</td>\n",
       "      <td>0.00</td>\n",
       "      <td>1.00</td>\n",
       "      <td>1.00</td>\n",
       "      <td>1.000000e+00</td>\n",
       "    </tr>\n",
       "    <tr>\n",
       "      <th>settlement_period</th>\n",
       "      <td>3120010.0</td>\n",
       "      <td>1.10</td>\n",
       "      <td>0.32</td>\n",
       "      <td>1.00</td>\n",
       "      <td>1.00</td>\n",
       "      <td>1.00</td>\n",
       "      <td>1.00</td>\n",
       "      <td>3.000000e+00</td>\n",
       "    </tr>\n",
       "    <tr>\n",
       "      <th>blockage_day_count</th>\n",
       "      <td>3120010.0</td>\n",
       "      <td>9.87</td>\n",
       "      <td>5.14</td>\n",
       "      <td>0.00</td>\n",
       "      <td>7.00</td>\n",
       "      <td>7.00</td>\n",
       "      <td>15.00</td>\n",
       "      <td>3.000000e+01</td>\n",
       "    </tr>\n",
       "    <tr>\n",
       "      <th>is_fraud_transaction</th>\n",
       "      <td>3120010.0</td>\n",
       "      <td>0.00</td>\n",
       "      <td>0.06</td>\n",
       "      <td>0.00</td>\n",
       "      <td>0.00</td>\n",
       "      <td>0.00</td>\n",
       "      <td>0.00</td>\n",
       "      <td>1.000000e+00</td>\n",
       "    </tr>\n",
       "  </tbody>\n",
       "</table>\n",
       "</div>"
      ],
      "text/plain": [
       "                          count        mean          std        min  \\\n",
       "payment_id            3120010.0  1560005.50    900669.45       1.00   \n",
       "price                 3120010.0     1783.29      6628.79       0.01   \n",
       "merchant_id           3120010.0       19.52        21.39       1.00   \n",
       "payment_source_id     3120000.0  4297562.17  20283383.65       1.00   \n",
       "installment           3120010.0        1.31         1.27       0.00   \n",
       "bin_number            3120010.0   521327.64    286982.75  100111.00   \n",
       "last_four_digits      3120010.0     5454.65      2599.04    1000.00   \n",
       "is_threeds            3120010.0        0.59         0.49       0.00   \n",
       "settlement_period     3120010.0        1.10         0.32       1.00   \n",
       "blockage_day_count    3120010.0        9.87         5.14       0.00   \n",
       "is_fraud_transaction  3120010.0        0.00         0.06       0.00   \n",
       "\n",
       "                            25%         50%         75%           max  \n",
       "payment_id            780003.25  1560005.50  2340007.75  3.120010e+06  \n",
       "price                     90.63      160.76      517.88  2.121984e+06  \n",
       "merchant_id                2.00        2.00       34.00  7.700000e+01  \n",
       "payment_source_id          1.00        1.00        1.00  1.000311e+08  \n",
       "installment                1.00        1.00        1.00  1.200000e+01  \n",
       "bin_number            220245.00   596077.00   760208.00  9.996770e+05  \n",
       "last_four_digits        3209.00     5437.00     7657.00  9.998000e+03  \n",
       "is_threeds                 0.00        1.00        1.00  1.000000e+00  \n",
       "settlement_period          1.00        1.00        1.00  3.000000e+00  \n",
       "blockage_day_count         7.00        7.00       15.00  3.000000e+01  \n",
       "is_fraud_transaction       0.00        0.00        0.00  1.000000e+00  "
      ]
     },
     "execution_count": 6,
     "metadata": {},
     "output_type": "execute_result"
    }
   ],
   "source": [
    "df.describe().T.round(2) #derli toplu bir describe"
   ]
  },
  {
   "cell_type": "markdown",
   "id": "d545ed50",
   "metadata": {},
   "source": [
    "Tabloyu sadeleştirmek adına modelde kesin kullanmayacağımız değişkenleri çıkartıyorum."
   ]
  },
  {
   "cell_type": "code",
   "execution_count": 7,
   "id": "4ec565fb",
   "metadata": {},
   "outputs": [],
   "source": [
    "df.drop(columns= [\"payment_id\", \"buyer_name\", \"buyer_surname\", \"buyer_email\",\"buyer_gsm\"], inplace=True)"
   ]
  },
  {
   "cell_type": "code",
   "execution_count": 8,
   "id": "4e527846",
   "metadata": {},
   "outputs": [
    {
     "data": {
      "text/plain": [
       "30"
      ]
     },
     "execution_count": 8,
     "metadata": {},
     "output_type": "execute_result"
    }
   ],
   "source": [
    "df[\"payment_source_id\"].nunique() #veriden çıkartmayacağım."
   ]
  },
  {
   "cell_type": "code",
   "execution_count": 9,
   "id": "971be43b",
   "metadata": {},
   "outputs": [
    {
     "data": {
      "text/plain": [
       "payment_date                        0\n",
       "payment_type                        0\n",
       "payment_channel                     0\n",
       "payment_group                     139\n",
       "price                               0\n",
       "payment_currency                    0\n",
       "merchant_id                         0\n",
       "payment_source_id                  10\n",
       "installment                         0\n",
       "card_type                       92285\n",
       "card_association                91512\n",
       "card_family                     92289\n",
       "bin_number                          0\n",
       "last_four_digits                    0\n",
       "is_threeds                          0\n",
       "buyer_city                          4\n",
       "buyer_country                       0\n",
       "merchant_type                       0\n",
       "merchant_onboarding_source          0\n",
       "merchant_source_name                0\n",
       "settlement_period                   0\n",
       "blockage_day_count                  0\n",
       "merchant_work_beginning_date    60302\n",
       "merchant_city                       0\n",
       "merchant_company_type               0\n",
       "merchant_register_date              0\n",
       "merchant_segment                    0\n",
       "is_fraud_transaction                0\n",
       "dtype: int64"
      ]
     },
     "execution_count": 9,
     "metadata": {},
     "output_type": "execute_result"
    }
   ],
   "source": [
    "df.isnull().sum()"
   ]
  },
  {
   "cell_type": "code",
   "execution_count": 10,
   "id": "e1ce0e09",
   "metadata": {},
   "outputs": [
    {
     "data": {
      "text/plain": [
       "card_type\n",
       "CREDIT_CARD    1615463\n",
       "DEBIT_CARD     1412258\n",
       "OTHER                4\n",
       "Name: count, dtype: int64"
      ]
     },
     "execution_count": 10,
     "metadata": {},
     "output_type": "execute_result"
    }
   ],
   "source": [
    "df[\"card_type\"].value_counts() #(Boş olanlar yurt dışı kartı olarak değerlendirilecek)"
   ]
  },
  {
   "cell_type": "markdown",
   "id": "cd4a1c3c",
   "metadata": {},
   "source": [
    "Boş verileri doldurmadan önce value_counts() ile değerlerini inceledim."
   ]
  },
  {
   "cell_type": "markdown",
   "id": "02873f34",
   "metadata": {},
   "source": [
    "Boş verilerin doldurulması:"
   ]
  },
  {
   "cell_type": "code",
   "execution_count": 11,
   "id": "bb11e3ff",
   "metadata": {},
   "outputs": [
    {
     "name": "stderr",
     "output_type": "stream",
     "text": [
      "C:\\Users\\qmind\\AppData\\Local\\Temp\\ipykernel_8124\\1555005374.py:1: FutureWarning: A value is trying to be set on a copy of a DataFrame or Series through chained assignment using an inplace method.\n",
      "The behavior will change in pandas 3.0. This inplace method will never work because the intermediate object on which we are setting values always behaves as a copy.\n",
      "\n",
      "For example, when doing 'df[col].method(value, inplace=True)', try using 'df.method({col: value}, inplace=True)' or df[col] = df[col].method(value) instead, to perform the operation inplace on the original object.\n",
      "\n",
      "\n",
      "  df[\"card_type\"].fillna(\"foreign\", inplace=True) #case raporunda böyle belirtilmiş\n",
      "C:\\Users\\qmind\\AppData\\Local\\Temp\\ipykernel_8124\\1555005374.py:2: FutureWarning: A value is trying to be set on a copy of a DataFrame or Series through chained assignment using an inplace method.\n",
      "The behavior will change in pandas 3.0. This inplace method will never work because the intermediate object on which we are setting values always behaves as a copy.\n",
      "\n",
      "For example, when doing 'df[col].method(value, inplace=True)', try using 'df.method({col: value}, inplace=True)' or df[col] = df[col].method(value) instead, to perform the operation inplace on the original object.\n",
      "\n",
      "\n",
      "  df[\"card_association\"].fillna(\"other\", inplace=True)\n",
      "C:\\Users\\qmind\\AppData\\Local\\Temp\\ipykernel_8124\\1555005374.py:3: FutureWarning: A value is trying to be set on a copy of a DataFrame or Series through chained assignment using an inplace method.\n",
      "The behavior will change in pandas 3.0. This inplace method will never work because the intermediate object on which we are setting values always behaves as a copy.\n",
      "\n",
      "For example, when doing 'df[col].method(value, inplace=True)', try using 'df.method({col: value}, inplace=True)' or df[col] = df[col].method(value) instead, to perform the operation inplace on the original object.\n",
      "\n",
      "\n",
      "  df[\"card_family\"].fillna(\"other\", inplace=True)\n",
      "C:\\Users\\qmind\\AppData\\Local\\Temp\\ipykernel_8124\\1555005374.py:4: FutureWarning: A value is trying to be set on a copy of a DataFrame or Series through chained assignment using an inplace method.\n",
      "The behavior will change in pandas 3.0. This inplace method will never work because the intermediate object on which we are setting values always behaves as a copy.\n",
      "\n",
      "For example, when doing 'df[col].method(value, inplace=True)', try using 'df.method({col: value}, inplace=True)' or df[col] = df[col].method(value) instead, to perform the operation inplace on the original object.\n",
      "\n",
      "\n",
      "  df[\"buyer_city\"].fillna(df[\"buyer_city\"].mode()[0], inplace=True)\n",
      "C:\\Users\\qmind\\AppData\\Local\\Temp\\ipykernel_8124\\1555005374.py:5: FutureWarning: A value is trying to be set on a copy of a DataFrame or Series through chained assignment using an inplace method.\n",
      "The behavior will change in pandas 3.0. This inplace method will never work because the intermediate object on which we are setting values always behaves as a copy.\n",
      "\n",
      "For example, when doing 'df[col].method(value, inplace=True)', try using 'df.method({col: value}, inplace=True)' or df[col] = df[col].method(value) instead, to perform the operation inplace on the original object.\n",
      "\n",
      "\n",
      "  df[\"payment_source_id\"].fillna(df[\"payment_source_id\"].mode()[0], inplace=True)\n",
      "C:\\Users\\qmind\\AppData\\Local\\Temp\\ipykernel_8124\\1555005374.py:6: FutureWarning: A value is trying to be set on a copy of a DataFrame or Series through chained assignment using an inplace method.\n",
      "The behavior will change in pandas 3.0. This inplace method will never work because the intermediate object on which we are setting values always behaves as a copy.\n",
      "\n",
      "For example, when doing 'df[col].method(value, inplace=True)', try using 'df.method({col: value}, inplace=True)' or df[col] = df[col].method(value) instead, to perform the operation inplace on the original object.\n",
      "\n",
      "\n",
      "  df[\"merchant_work_beginning_date\"].fillna(df[\"merchant_work_beginning_date\"].mode()[0], inplace=True)\n",
      "C:\\Users\\qmind\\AppData\\Local\\Temp\\ipykernel_8124\\1555005374.py:7: FutureWarning: A value is trying to be set on a copy of a DataFrame or Series through chained assignment using an inplace method.\n",
      "The behavior will change in pandas 3.0. This inplace method will never work because the intermediate object on which we are setting values always behaves as a copy.\n",
      "\n",
      "For example, when doing 'df[col].method(value, inplace=True)', try using 'df.method({col: value}, inplace=True)' or df[col] = df[col].method(value) instead, to perform the operation inplace on the original object.\n",
      "\n",
      "\n",
      "  df[\"payment_group\"].fillna(df[\"payment_group\"].mode()[0], inplace=True)\n"
     ]
    }
   ],
   "source": [
    "df[\"card_type\"].fillna(\"foreign\", inplace=True) #case raporunda böyle belirtilmiş\n",
    "df[\"card_association\"].fillna(\"other\", inplace=True)\n",
    "df[\"card_family\"].fillna(\"other\", inplace=True)\n",
    "df[\"buyer_city\"].fillna(df[\"buyer_city\"].mode()[0], inplace=True)\n",
    "df[\"payment_source_id\"].fillna(df[\"payment_source_id\"].mode()[0], inplace=True)\n",
    "df[\"merchant_work_beginning_date\"].fillna(df[\"merchant_work_beginning_date\"].mode()[0], inplace=True)\n",
    "df[\"payment_group\"].fillna(df[\"payment_group\"].mode()[0], inplace=True)\n"
   ]
  },
  {
   "cell_type": "code",
   "execution_count": 12,
   "id": "6da809c0",
   "metadata": {},
   "outputs": [
    {
     "data": {
      "text/plain": [
       "payment_date                    0\n",
       "payment_type                    0\n",
       "payment_channel                 0\n",
       "payment_group                   0\n",
       "price                           0\n",
       "payment_currency                0\n",
       "merchant_id                     0\n",
       "payment_source_id               0\n",
       "installment                     0\n",
       "card_type                       0\n",
       "card_association                0\n",
       "card_family                     0\n",
       "bin_number                      0\n",
       "last_four_digits                0\n",
       "is_threeds                      0\n",
       "buyer_city                      0\n",
       "buyer_country                   0\n",
       "merchant_type                   0\n",
       "merchant_onboarding_source      0\n",
       "merchant_source_name            0\n",
       "settlement_period               0\n",
       "blockage_day_count              0\n",
       "merchant_work_beginning_date    0\n",
       "merchant_city                   0\n",
       "merchant_company_type           0\n",
       "merchant_register_date          0\n",
       "merchant_segment                0\n",
       "is_fraud_transaction            0\n",
       "dtype: int64"
      ]
     },
     "execution_count": 12,
     "metadata": {},
     "output_type": "execute_result"
    }
   ],
   "source": [
    "df.isnull().sum()"
   ]
  },
  {
   "cell_type": "code",
   "execution_count": 13,
   "id": "04204a61",
   "metadata": {},
   "outputs": [
    {
     "data": {
      "text/plain": [
       "is_fraud_transaction\n",
       "0    3110181\n",
       "1       9829\n",
       "Name: count, dtype: int64"
      ]
     },
     "execution_count": 13,
     "metadata": {},
     "output_type": "execute_result"
    }
   ],
   "source": [
    "df[\"is_fraud_transaction\"].value_counts() #hedef değişkenin sınıf dağılımına bakalım:"
   ]
  },
  {
   "cell_type": "markdown",
   "id": "ce13a2b2",
   "metadata": {},
   "source": [
    "Aşırı bir dengesizlik var. Bu durumda feature engineering üzerinde biraz çalışmalıyız:\n"
   ]
  },
  {
   "cell_type": "markdown",
   "id": "1276afe6",
   "metadata": {},
   "source": [
    "Feature Engineering:"
   ]
  },
  {
   "cell_type": "code",
   "execution_count": 14,
   "id": "19acbcae",
   "metadata": {},
   "outputs": [],
   "source": [
    "# Şimdiye kadar iki tane date içeren sütunumuz vardı. Onları datetime formatına çevirelim:\n",
    "df[\"payment_date\"] = pd.to_datetime(df[\"payment_date\"])\n",
    "df[\"merchant_work_beginning_date\"] = pd.to_datetime(df[\"merchant_work_beginning_date\"])\n",
    "\n",
    "#şimdi bu datetime'ları kullanarak merchant date ile payment date arasındaki gün farkına bakalım:\n",
    "df[\"merchant_islem_days\"] = (df[\"payment_date\"] - df[\"merchant_work_beginning_date\"]).dt.days\n"
   ]
  },
  {
   "cell_type": "code",
   "execution_count": 15,
   "id": "df210130",
   "metadata": {},
   "outputs": [],
   "source": [
    "# payment_hour diye bir değişken oluşturuyorum, çünkü gece yapılan işlemler frauda daha yatkın olabilir.\n",
    "df[\"payment_hour\"] = df[\"payment_date\"].dt.hour\n",
    "#eğer gece işlemiyse \n",
    "df[\"is_night\"] = df[\"payment_hour\"].apply(lambda x: 1 if (x >= 0 and x <= 6) else 0)\n",
    "# payment day\n",
    "df[\"payment_day\"] = df[\"payment_date\"].dt.dayofweek\n",
    "#işlem hafta sonu mu yapıldı?\n",
    "df[\"is_weekend\"] = (df[\"payment_day\"] >= 5).astype(int)"
   ]
  },
  {
   "cell_type": "code",
   "execution_count": 16,
   "id": "9902bf0b",
   "metadata": {},
   "outputs": [],
   "source": [
    "# yüksek değerli işlem alarmı\n",
    "df[\"is_high_price\"] = (df[\"price\"] > 10000).astype(int)\n",
    "# 3DS yok ve yüksek fiyatlı işlem alarmı\n",
    "df[\"3ds_yok_high_price\"] = ((df[\"is_threeds\"] == 0) & (df[\"price\"] > 5000)).astype(int)\n"
   ]
  },
  {
   "cell_type": "code",
   "execution_count": 17,
   "id": "2d7f794e",
   "metadata": {},
   "outputs": [],
   "source": [
    "# kart numarasının ilk 6 hanesi ile son 4 hanesini birleştirip unique bir card id elde ediyorum.\n",
    "df[\"card_id\"] = df[\"bin_number\"].astype(str) + df[\"last_four_digits\"].astype(str)\n"
   ]
  },
  {
   "cell_type": "code",
   "execution_count": 18,
   "id": "9719532d",
   "metadata": {},
   "outputs": [],
   "source": [
    "#taksit başına işlem tutarı ne kadar?\n",
    "df[\"price_per_installment\"] = df[\"price\"] / (df[\"installment\"] + 1)\n"
   ]
  },
  {
   "cell_type": "markdown",
   "id": "15bab0f8",
   "metadata": {},
   "source": [
    "df'in son haline bakalım:"
   ]
  },
  {
   "cell_type": "code",
   "execution_count": 19,
   "id": "0992f559",
   "metadata": {},
   "outputs": [
    {
     "data": {
      "text/html": [
       "<div>\n",
       "<style scoped>\n",
       "    .dataframe tbody tr th:only-of-type {\n",
       "        vertical-align: middle;\n",
       "    }\n",
       "\n",
       "    .dataframe tbody tr th {\n",
       "        vertical-align: top;\n",
       "    }\n",
       "\n",
       "    .dataframe thead th {\n",
       "        text-align: right;\n",
       "    }\n",
       "</style>\n",
       "<table border=\"1\" class=\"dataframe\">\n",
       "  <thead>\n",
       "    <tr style=\"text-align: right;\">\n",
       "      <th></th>\n",
       "      <th>payment_date</th>\n",
       "      <th>payment_type</th>\n",
       "      <th>payment_channel</th>\n",
       "      <th>payment_group</th>\n",
       "      <th>price</th>\n",
       "      <th>payment_currency</th>\n",
       "      <th>merchant_id</th>\n",
       "      <th>payment_source_id</th>\n",
       "      <th>installment</th>\n",
       "      <th>card_type</th>\n",
       "      <th>...</th>\n",
       "      <th>is_fraud_transaction</th>\n",
       "      <th>merchant_islem_days</th>\n",
       "      <th>payment_hour</th>\n",
       "      <th>is_night</th>\n",
       "      <th>payment_day</th>\n",
       "      <th>is_weekend</th>\n",
       "      <th>is_high_price</th>\n",
       "      <th>3ds_yok_high_price</th>\n",
       "      <th>card_id</th>\n",
       "      <th>price_per_installment</th>\n",
       "    </tr>\n",
       "  </thead>\n",
       "  <tbody>\n",
       "    <tr>\n",
       "      <th>0</th>\n",
       "      <td>2024-09-03 14:44:15.941</td>\n",
       "      <td>CARD_PAYMENT</td>\n",
       "      <td>MOBILE</td>\n",
       "      <td>SUBSCRIPTION</td>\n",
       "      <td>1979.308310</td>\n",
       "      <td>TRY</td>\n",
       "      <td>2</td>\n",
       "      <td>1.0</td>\n",
       "      <td>1</td>\n",
       "      <td>CREDIT_CARD</td>\n",
       "      <td>...</td>\n",
       "      <td>0</td>\n",
       "      <td>3340</td>\n",
       "      <td>14</td>\n",
       "      <td>0</td>\n",
       "      <td>1</td>\n",
       "      <td>0</td>\n",
       "      <td>0</td>\n",
       "      <td>0</td>\n",
       "      <td>4870172193</td>\n",
       "      <td>989.654155</td>\n",
       "    </tr>\n",
       "    <tr>\n",
       "      <th>1</th>\n",
       "      <td>2024-09-03 14:40:30.641</td>\n",
       "      <td>CARD_PAYMENT</td>\n",
       "      <td>MOBILE</td>\n",
       "      <td>SUBSCRIPTION</td>\n",
       "      <td>2103.926111</td>\n",
       "      <td>TRY</td>\n",
       "      <td>2</td>\n",
       "      <td>1.0</td>\n",
       "      <td>1</td>\n",
       "      <td>CREDIT_CARD</td>\n",
       "      <td>...</td>\n",
       "      <td>0</td>\n",
       "      <td>3340</td>\n",
       "      <td>14</td>\n",
       "      <td>0</td>\n",
       "      <td>1</td>\n",
       "      <td>0</td>\n",
       "      <td>0</td>\n",
       "      <td>0</td>\n",
       "      <td>4870172193</td>\n",
       "      <td>1051.963055</td>\n",
       "    </tr>\n",
       "    <tr>\n",
       "      <th>2</th>\n",
       "      <td>2024-07-17 21:50:05.865</td>\n",
       "      <td>CARD_PAYMENT</td>\n",
       "      <td>WEB</td>\n",
       "      <td>PRODUCT</td>\n",
       "      <td>160.762358</td>\n",
       "      <td>TRY</td>\n",
       "      <td>34</td>\n",
       "      <td>1.0</td>\n",
       "      <td>1</td>\n",
       "      <td>DEBIT_CARD</td>\n",
       "      <td>...</td>\n",
       "      <td>0</td>\n",
       "      <td>1394</td>\n",
       "      <td>21</td>\n",
       "      <td>0</td>\n",
       "      <td>2</td>\n",
       "      <td>0</td>\n",
       "      <td>0</td>\n",
       "      <td>0</td>\n",
       "      <td>8174728044</td>\n",
       "      <td>80.381179</td>\n",
       "    </tr>\n",
       "    <tr>\n",
       "      <th>3</th>\n",
       "      <td>2024-06-15 22:41:50.741</td>\n",
       "      <td>CARD_PAYMENT</td>\n",
       "      <td>WEB</td>\n",
       "      <td>PRODUCT</td>\n",
       "      <td>1.078942</td>\n",
       "      <td>TRY</td>\n",
       "      <td>34</td>\n",
       "      <td>1.0</td>\n",
       "      <td>1</td>\n",
       "      <td>DEBIT_CARD</td>\n",
       "      <td>...</td>\n",
       "      <td>0</td>\n",
       "      <td>1362</td>\n",
       "      <td>22</td>\n",
       "      <td>0</td>\n",
       "      <td>5</td>\n",
       "      <td>1</td>\n",
       "      <td>0</td>\n",
       "      <td>0</td>\n",
       "      <td>8174728044</td>\n",
       "      <td>0.539471</td>\n",
       "    </tr>\n",
       "    <tr>\n",
       "      <th>4</th>\n",
       "      <td>2024-07-15 22:15:06.646</td>\n",
       "      <td>CARD_PAYMENT</td>\n",
       "      <td>WEB</td>\n",
       "      <td>PRODUCT</td>\n",
       "      <td>160.762358</td>\n",
       "      <td>TRY</td>\n",
       "      <td>34</td>\n",
       "      <td>1.0</td>\n",
       "      <td>1</td>\n",
       "      <td>DEBIT_CARD</td>\n",
       "      <td>...</td>\n",
       "      <td>0</td>\n",
       "      <td>1392</td>\n",
       "      <td>22</td>\n",
       "      <td>0</td>\n",
       "      <td>0</td>\n",
       "      <td>0</td>\n",
       "      <td>0</td>\n",
       "      <td>0</td>\n",
       "      <td>8174728044</td>\n",
       "      <td>80.381179</td>\n",
       "    </tr>\n",
       "  </tbody>\n",
       "</table>\n",
       "<p>5 rows × 37 columns</p>\n",
       "</div>"
      ],
      "text/plain": [
       "             payment_date  payment_type payment_channel payment_group  \\\n",
       "0 2024-09-03 14:44:15.941  CARD_PAYMENT          MOBILE  SUBSCRIPTION   \n",
       "1 2024-09-03 14:40:30.641  CARD_PAYMENT          MOBILE  SUBSCRIPTION   \n",
       "2 2024-07-17 21:50:05.865  CARD_PAYMENT             WEB       PRODUCT   \n",
       "3 2024-06-15 22:41:50.741  CARD_PAYMENT             WEB       PRODUCT   \n",
       "4 2024-07-15 22:15:06.646  CARD_PAYMENT             WEB       PRODUCT   \n",
       "\n",
       "         price payment_currency  merchant_id  payment_source_id  installment  \\\n",
       "0  1979.308310              TRY            2                1.0            1   \n",
       "1  2103.926111              TRY            2                1.0            1   \n",
       "2   160.762358              TRY           34                1.0            1   \n",
       "3     1.078942              TRY           34                1.0            1   \n",
       "4   160.762358              TRY           34                1.0            1   \n",
       "\n",
       "     card_type  ... is_fraud_transaction merchant_islem_days  payment_hour  \\\n",
       "0  CREDIT_CARD  ...                    0                3340            14   \n",
       "1  CREDIT_CARD  ...                    0                3340            14   \n",
       "2   DEBIT_CARD  ...                    0                1394            21   \n",
       "3   DEBIT_CARD  ...                    0                1362            22   \n",
       "4   DEBIT_CARD  ...                    0                1392            22   \n",
       "\n",
       "   is_night  payment_day is_weekend is_high_price 3ds_yok_high_price  \\\n",
       "0         0            1          0             0                  0   \n",
       "1         0            1          0             0                  0   \n",
       "2         0            2          0             0                  0   \n",
       "3         0            5          1             0                  0   \n",
       "4         0            0          0             0                  0   \n",
       "\n",
       "      card_id price_per_installment  \n",
       "0  4870172193            989.654155  \n",
       "1  4870172193           1051.963055  \n",
       "2  8174728044             80.381179  \n",
       "3  8174728044              0.539471  \n",
       "4  8174728044             80.381179  \n",
       "\n",
       "[5 rows x 37 columns]"
      ]
     },
     "execution_count": 19,
     "metadata": {},
     "output_type": "execute_result"
    }
   ],
   "source": [
    "df.head()"
   ]
  },
  {
   "cell_type": "markdown",
   "id": "4fca3362",
   "metadata": {},
   "source": [
    "Feature engineering sonrası modele girmeyecek değişkenleri çıkartalım:"
   ]
  },
  {
   "cell_type": "code",
   "execution_count": 20,
   "id": "fc48e146",
   "metadata": {},
   "outputs": [],
   "source": [
    "df.drop(columns=[\"merchant_id\",\"payment_date\",\"merchant_work_beginning_date\" ,\"merchant_register_date\", \"card_id\"], inplace=True)"
   ]
  },
  {
   "cell_type": "markdown",
   "id": "bc4d005d",
   "metadata": {},
   "source": [
    "Sayısal değişkenler arasındaki korelasyonu inceliyorum:"
   ]
  },
  {
   "cell_type": "code",
   "execution_count": 21,
   "id": "f2524e4c",
   "metadata": {},
   "outputs": [
    {
     "data": {
      "image/png": "[encoded data removed]",
      "text/plain": [
       "<Figure size 1600x1200 with 2 Axes>"
      ]
     },
     "metadata": {},
     "output_type": "display_data"
    }
   ],
   "source": [
    "sayısal_sütunlar = df.select_dtypes(include=[\"int64\", \"float64\"]).columns\n",
    "\n",
    "corr_matrix = df[sayısal_sütunlar].corr()\n",
    "\n",
    "plt.figure(figsize=(16, 12))\n",
    "sns.heatmap(corr_matrix, annot=True, fmt=\".2f\", cmap=\"coolwarm\", linewidths=0.5)\n",
    "plt.title(\"Korelasyon Haritası\")\n",
    "plt.show()\n"
   ]
  },
  {
   "cell_type": "markdown",
   "id": "1adc9035",
   "metadata": {},
   "source": [
    "Özellikle hedef değişkenimizle yüksek korele olan bir sütun yok. Bu lineer ilişkinin zayıf olduğunu ve ağaçlı modellere yönelmemiz gerektiğini söyler. Bu haritaya göre herhangi bir değişkenimi çıkarmıyorum."
   ]
  },
  {
   "cell_type": "code",
   "execution_count": 22,
   "id": "b85b075e",
   "metadata": {},
   "outputs": [],
   "source": [
    "#label encoding yapalım:\n",
    "\n",
    "from sklearn.preprocessing import LabelEncoder\n",
    "\n",
    "kategorikler = df.select_dtypes(include=\"object\").columns\n",
    "\n",
    "le = LabelEncoder()\n",
    "for col in kategorikler:\n",
    "    df[col] = le.fit_transform(df[col].astype(str))\n"
   ]
  },
  {
   "cell_type": "markdown",
   "id": "66fdb9e4",
   "metadata": {},
   "source": [
    "Modele doğru:"
   ]
  },
  {
   "cell_type": "code",
   "execution_count": 23,
   "id": "dbbcc6ea",
   "metadata": {},
   "outputs": [],
   "source": [
    "y = df[\"is_fraud_transaction\"]\n",
    "x=df.drop(\"is_fraud_transaction\", axis=1)"
   ]
  },
  {
   "cell_type": "code",
   "execution_count": null,
   "id": "c6a94d18",
   "metadata": {},
   "outputs": [],
   "source": []
  },
  {
   "cell_type": "markdown",
   "id": "3e30e2f6",
   "metadata": {},
   "source": [
    "Aşırı dengesiz bir sınıflandırma problemiyle karşı karşıyayız.\n",
    "Bu problemi aşmak için SMOTE, class_weight=balanced ve cross val. yapıp sonuclarda F1 skoruna odaklanacağız."
   ]
  },
  {
   "cell_type": "code",
   "execution_count": 25,
   "id": "9af06b03",
   "metadata": {},
   "outputs": [
    {
     "name": "stdout",
     "output_type": "stream",
     "text": [
      "[LightGBM] [Info] Number of positive: 2488144, number of negative: 2488144\n",
      "[LightGBM] [Info] Auto-choosing row-wise multi-threading, the overhead of testing was 0.196569 seconds.\n",
      "You can set `force_row_wise=true` to remove the overhead.\n",
      "And if memory is not enough, you can set `force_col_wise=true`.\n",
      "[LightGBM] [Info] Total Bins 2046\n",
      "[LightGBM] [Info] Number of data points in the train set: 4976288, number of used features: 31\n",
      "[LightGBM] [Info] [binary:BoostFromScore]: pavg=0.500000 -> initscore=0.000000\n",
      "[LightGBM] [Info] Number of positive: 2488145, number of negative: 2488145\n",
      "[LightGBM] [Info] Auto-choosing row-wise multi-threading, the overhead of testing was 0.185354 seconds.\n",
      "You can set `force_row_wise=true` to remove the overhead.\n",
      "And if memory is not enough, you can set `force_col_wise=true`.\n",
      "[LightGBM] [Info] Total Bins 2023\n",
      "[LightGBM] [Info] Number of data points in the train set: 4976290, number of used features: 31\n",
      "[LightGBM] [Info] [binary:BoostFromScore]: pavg=0.500000 -> initscore=0.000000\n",
      "[LightGBM] [Info] Number of positive: 2488145, number of negative: 2488145\n",
      "[LightGBM] [Info] Auto-choosing row-wise multi-threading, the overhead of testing was 0.173753 seconds.\n",
      "You can set `force_row_wise=true` to remove the overhead.\n",
      "And if memory is not enough, you can set `force_col_wise=true`.\n",
      "[LightGBM] [Info] Total Bins 2042\n",
      "[LightGBM] [Info] Number of data points in the train set: 4976290, number of used features: 31\n",
      "[LightGBM] [Info] [binary:BoostFromScore]: pavg=0.500000 -> initscore=0.000000\n",
      "[LightGBM] [Info] Number of positive: 2488145, number of negative: 2488145\n",
      "[LightGBM] [Info] Auto-choosing row-wise multi-threading, the overhead of testing was 0.206685 seconds.\n",
      "You can set `force_row_wise=true` to remove the overhead.\n",
      "And if memory is not enough, you can set `force_col_wise=true`.\n",
      "[LightGBM] [Info] Total Bins 2018\n",
      "[LightGBM] [Info] Number of data points in the train set: 4976290, number of used features: 31\n",
      "[LightGBM] [Info] [binary:BoostFromScore]: pavg=0.500000 -> initscore=0.000000\n",
      "[LightGBM] [Info] Number of positive: 2488145, number of negative: 2488145\n",
      "[LightGBM] [Info] Auto-choosing row-wise multi-threading, the overhead of testing was 0.170603 seconds.\n",
      "You can set `force_row_wise=true` to remove the overhead.\n",
      "And if memory is not enough, you can set `force_col_wise=true`.\n",
      "[LightGBM] [Info] Total Bins 2034\n",
      "[LightGBM] [Info] Number of data points in the train set: 4976290, number of used features: 31\n",
      "[LightGBM] [Info] [binary:BoostFromScore]: pavg=0.500000 -> initscore=0.000000\n",
      "Precision: 0.0623\n",
      "Recall:    0.8387\n",
      "F1 Score:  0.1159\n",
      "ROC AUC:   0.9784\n"
     ]
    }
   ],
   "source": [
    "from imblearn.over_sampling import SMOTE\n",
    "from imblearn.pipeline import Pipeline\n",
    "from sklearn.model_selection import StratifiedKFold\n",
    "from sklearn.metrics import precision_score, recall_score, f1_score, roc_auc_score\n",
    "from lightgbm import LGBMClassifier\n",
    "import numpy as np\n",
    "\n",
    "# SMOTE ve model\n",
    "smote = SMOTE(random_state=42)\n",
    "model = LGBMClassifier(random_state=42)\n",
    "\n",
    "# Pipeline\n",
    "pipeline = Pipeline([\n",
    "    (\"smote\", smote),\n",
    "    (\"lgbm\", model)\n",
    "])\n",
    "\n",
    "# Stratified K-Fold\n",
    "skf = StratifiedKFold(n_splits=5, shuffle=True, random_state=42)\n",
    "\n",
    "# Metrik listeleri\n",
    "precision_scores = []\n",
    "recall_scores = []\n",
    "f1_scores = []\n",
    "roc_auc_scores = []\n",
    "\n",
    "# Fold bazlı loop\n",
    "for train_idx, test_idx in skf.split(x, y):\n",
    "    x_train, x_test = x.iloc[train_idx], x.iloc[test_idx]\n",
    "    y_train, y_test = y.iloc[train_idx], y.iloc[test_idx]\n",
    "    \n",
    "    pipeline.fit(x_train, y_train)\n",
    "    y_pred = pipeline.predict(x_test)\n",
    "    y_proba = pipeline.predict_proba(x_test)[:, 1]\n",
    "\n",
    "    precision_scores.append(precision_score(y_test, y_pred))\n",
    "    recall_scores.append(recall_score(y_test, y_pred))\n",
    "    f1_scores.append(f1_score(y_test, y_pred))\n",
    "    roc_auc_scores.append(roc_auc_score(y_test, y_proba))\n",
    "\n",
    "# Ortalama skorlar\n",
    "print(f\"Precision: {np.mean(precision_scores):.4f}\")\n",
    "print(f\"Recall:    {np.mean(recall_scores):.4f}\")\n",
    "print(f\"F1 Score:  {np.mean(f1_scores):.4f}\")\n",
    "print(f\"ROC AUC:   {np.mean(roc_auc_scores):.4f}\")\n"
   ]
  },
  {
   "cell_type": "markdown",
   "id": "66493f94",
   "metadata": {},
   "source": []
  },
  {
   "cell_type": "markdown",
   "id": "73e52533",
   "metadata": {},
   "source": [
    "Bir treshold değeri belirledim (0.7). Yani model, fraud olasılığı ≥ 0.7 olan işlemleri 1 yani fraud olarak etiketleyecek, şimdi sonuçlara bakalım:\n"
   ]
  },
  {
   "cell_type": "markdown",
   "id": "ad1d5266",
   "metadata": {},
   "source": [
    "treshold ayarlaması yapılmış hali: (Yine Lightgbm modeli)"
   ]
  },
  {
   "cell_type": "code",
   "execution_count": null,
   "id": "6bba38a8",
   "metadata": {},
   "outputs": [
    {
     "name": "stdout",
     "output_type": "stream",
     "text": [
      "[LightGBM] [Info] Number of positive: 2488144, number of negative: 2488144\n",
      "[LightGBM] [Info] Auto-choosing row-wise multi-threading, the overhead of testing was 0.715134 seconds.\n",
      "You can set `force_row_wise=true` to remove the overhead.\n",
      "And if memory is not enough, you can set `force_col_wise=true`.\n",
      "[LightGBM] [Info] Total Bins 2046\n",
      "[LightGBM] [Info] Number of data points in the train set: 4976288, number of used features: 31\n",
      "[LightGBM] [Info] [binary:BoostFromScore]: pavg=0.500000 -> initscore=0.000000\n",
      "[LightGBM] [Info] Number of positive: 2488145, number of negative: 2488145\n",
      "[LightGBM] [Info] Auto-choosing row-wise multi-threading, the overhead of testing was 0.367905 seconds.\n",
      "You can set `force_row_wise=true` to remove the overhead.\n",
      "And if memory is not enough, you can set `force_col_wise=true`.\n",
      "[LightGBM] [Info] Total Bins 2023\n",
      "[LightGBM] [Info] Number of data points in the train set: 4976290, number of used features: 31\n",
      "[LightGBM] [Info] [binary:BoostFromScore]: pavg=0.500000 -> initscore=0.000000\n",
      "[LightGBM] [Info] Number of positive: 2488145, number of negative: 2488145\n",
      "[LightGBM] [Info] Auto-choosing row-wise multi-threading, the overhead of testing was 0.189355 seconds.\n",
      "You can set `force_row_wise=true` to remove the overhead.\n",
      "And if memory is not enough, you can set `force_col_wise=true`.\n",
      "[LightGBM] [Info] Total Bins 2042\n",
      "[LightGBM] [Info] Number of data points in the train set: 4976290, number of used features: 31\n",
      "[LightGBM] [Info] [binary:BoostFromScore]: pavg=0.500000 -> initscore=0.000000\n",
      "[LightGBM] [Info] Number of positive: 2488145, number of negative: 2488145\n",
      "[LightGBM] [Info] Auto-choosing row-wise multi-threading, the overhead of testing was 0.449680 seconds.\n",
      "You can set `force_row_wise=true` to remove the overhead.\n",
      "And if memory is not enough, you can set `force_col_wise=true`.\n",
      "[LightGBM] [Info] Total Bins 2018\n",
      "[LightGBM] [Info] Number of data points in the train set: 4976290, number of used features: 31\n",
      "[LightGBM] [Info] [binary:BoostFromScore]: pavg=0.500000 -> initscore=0.000000\n",
      "[LightGBM] [Info] Number of positive: 2488145, number of negative: 2488145\n",
      "[LightGBM] [Info] Auto-choosing row-wise multi-threading, the overhead of testing was 0.216183 seconds.\n",
      "You can set `force_row_wise=true` to remove the overhead.\n",
      "And if memory is not enough, you can set `force_col_wise=true`.\n",
      "[LightGBM] [Info] Total Bins 2034\n",
      "[LightGBM] [Info] Number of data points in the train set: 4976290, number of used features: 31\n",
      "[LightGBM] [Info] [binary:BoostFromScore]: pavg=0.500000 -> initscore=0.000000\n",
      "Precision: 0.1044\n",
      "Recall:    0.7568\n",
      "F1 Score:  0.1835\n",
      "ROC AUC:   0.9784\n"
     ]
    }
   ],
   "source": [
    "from imblearn.over_sampling import SMOTE\n",
    "from imblearn.pipeline import Pipeline\n",
    "from sklearn.model_selection import StratifiedKFold\n",
    "from sklearn.metrics import precision_score, recall_score, f1_score, roc_auc_score\n",
    "from lightgbm import LGBMClassifier\n",
    "\n",
    "# SMOTE ve model\n",
    "smote = SMOTE(random_state=42)\n",
    "model = LGBMClassifier(random_state=42)\n",
    "\n",
    "# Pipeline\n",
    "pipeline = Pipeline([\n",
    "    (\"smote\", smote),\n",
    "    (\"lgbm\", model)\n",
    "])\n",
    "\n",
    "# Stratified K-Fold\n",
    "skf = StratifiedKFold(n_splits=5, shuffle=True, random_state=42)\n",
    "\n",
    "# Metrik listeleri\n",
    "precision_scores = []\n",
    "recall_scores = []\n",
    "f1_scores = []\n",
    "roc_auc_scores = []\n",
    "\n",
    "threshold = 0.7\n",
    "\n",
    "for train_idx, test_idx in skf.split(x, y):\n",
    "    x_train, x_test = x.iloc[train_idx], X.iloc[test_idx]\n",
    "    y_train, y_test = y.iloc[train_idx], y.iloc[test_idx]\n",
    "    \n",
    "    pipeline.fit(x_train, y_train)\n",
    "    \n",
    "    y_proba = pipeline.predict_proba(x_test)[:, 1]\n",
    "    \n",
    "    y_pred = (y_proba >= threshold).astype(int)\n",
    "\n",
    "    # Metrikler\n",
    "    precision_scores.append(precision_score(y_test, y_pred, zero_division=0))\n",
    "    recall_scores.append(recall_score(y_test, y_pred, zero_division=0))\n",
    "    f1_scores.append(f1_score(y_test, y_pred, zero_division=0))\n",
    "    roc_auc_scores.append(roc_auc_score(y_test, y_proba))\n",
    "\n",
    "# Ortalama skorlar\n",
    "print(f\"Precision: {np.mean(precision_scores):.4f}\")\n",
    "print(f\"Recall:    {np.mean(recall_scores):.4f}\")\n",
    "print(f\"F1 Score:  {np.mean(f1_scores):.4f}\")\n",
    "print(f\"ROC AUC:   {np.mean(roc_auc_scores):.4f}\")\n"
   ]
  },
  {
   "cell_type": "markdown",
   "id": "e36d5130",
   "metadata": {},
   "source": [
    "treshold ayarlaması sonucları ciddi oranda düzeltti. Şimdi xgboost deneyelim:"
   ]
  },
  {
   "cell_type": "code",
   "execution_count": null,
   "id": "0b141fee",
   "metadata": {},
   "outputs": [
    {
     "name": "stderr",
     "output_type": "stream",
     "text": [
      "c:\\Users\\qmind\\anaconda3\\Lib\\site-packages\\xgboost\\training.py:183: UserWarning: [22:07:34] WARNING: C:\\actions-runner\\_work\\xgboost\\xgboost\\src\\learner.cc:738: \n",
      "Parameters: { \"use_label_encoder\" } are not used.\n",
      "\n",
      "  bst.update(dtrain, iteration=i, fobj=obj)\n",
      "c:\\Users\\qmind\\anaconda3\\Lib\\site-packages\\xgboost\\training.py:183: UserWarning: [22:08:16] WARNING: C:\\actions-runner\\_work\\xgboost\\xgboost\\src\\learner.cc:738: \n",
      "Parameters: { \"use_label_encoder\" } are not used.\n",
      "\n",
      "  bst.update(dtrain, iteration=i, fobj=obj)\n",
      "c:\\Users\\qmind\\anaconda3\\Lib\\site-packages\\xgboost\\training.py:183: UserWarning: [22:09:15] WARNING: C:\\actions-runner\\_work\\xgboost\\xgboost\\src\\learner.cc:738: \n",
      "Parameters: { \"use_label_encoder\" } are not used.\n",
      "\n",
      "  bst.update(dtrain, iteration=i, fobj=obj)\n",
      "c:\\Users\\qmind\\anaconda3\\Lib\\site-packages\\xgboost\\training.py:183: UserWarning: [22:10:31] WARNING: C:\\actions-runner\\_work\\xgboost\\xgboost\\src\\learner.cc:738: \n",
      "Parameters: { \"use_label_encoder\" } are not used.\n",
      "\n",
      "  bst.update(dtrain, iteration=i, fobj=obj)\n",
      "c:\\Users\\qmind\\anaconda3\\Lib\\site-packages\\xgboost\\training.py:183: UserWarning: [22:11:11] WARNING: C:\\actions-runner\\_work\\xgboost\\xgboost\\src\\learner.cc:738: \n",
      "Parameters: { \"use_label_encoder\" } are not used.\n",
      "\n",
      "  bst.update(dtrain, iteration=i, fobj=obj)\n"
     ]
    },
    {
     "name": "stdout",
     "output_type": "stream",
     "text": [
      "XGBoost Model Sonuçları:\n",
      "Precision: 0.1444\n",
      "Recall:    0.7232\n",
      "F1 Score:  0.2408\n",
      "ROC AUC:   0.9775\n"
     ]
    }
   ],
   "source": [
    "from imblearn.over_sampling import SMOTE\n",
    "from imblearn.pipeline import Pipeline\n",
    "from sklearn.model_selection import StratifiedKFold\n",
    "from sklearn.metrics import precision_score, recall_score, f1_score, roc_auc_score\n",
    "from xgboost import XGBClassifier\n",
    "\n",
    "smote = SMOTE(random_state=10)\n",
    "model = XGBClassifier(\n",
    "    random_state=42,\n",
    "    use_label_encoder=False,\n",
    "    eval_metric=\"logloss\",  # uyarı engellemek için\n",
    "    n_jobs=2\n",
    ")\n",
    "\n",
    "pipeline = Pipeline([\n",
    "    (\"smote\", smote),\n",
    "    (\"xgb\", model)\n",
    "])\n",
    "\n",
    "# Stratified K-Fold\n",
    "skf = StratifiedKFold(n_splits=5, shuffle=True, random_state=42)\n",
    "\n",
    "# Metrik listeleri\n",
    "precision_scores = []\n",
    "recall_scores = []\n",
    "f1_scores = []\n",
    "roc_auc_scores = []\n",
    "\n",
    "threshold = 0.7\n",
    "\n",
    "\n",
    "for train_idx, test_idx in skf.split(x, y):\n",
    "    x_train, x_test = x.iloc[train_idx], x.iloc[test_idx]\n",
    "    y_train, y_test = y.iloc[train_idx], y.iloc[test_idx]\n",
    "\n",
    "    pipeline.fit(x_train, y_train)\n",
    "    y_proba = pipeline.predict_proba(x_test)[:, 1]\n",
    "    y_pred = (y_proba >= threshold).astype(int)  \n",
    "\n",
    "    precision_scores.append(precision_score(y_test, y_pred, zero_division=0))\n",
    "    recall_scores.append(recall_score(y_test, y_pred, zero_division=0))\n",
    "    f1_scores.append(f1_score(y_test, y_pred, zero_division=0))\n",
    "    roc_auc_scores.append(roc_auc_score(y_test, y_proba))\n",
    "\n",
    "# Ortalama skorlar\n",
    "print(\"XGBoost Model Sonuçları:\")\n",
    "print(f\"Precision: {np.mean(precision_scores):.4f}\")\n",
    "print(f\"Recall:    {np.mean(recall_scores):.4f}\")\n",
    "print(f\"F1 Score:  {np.mean(f1_scores):.4f}\")\n",
    "print(f\"ROC AUC:   {np.mean(roc_auc_scores):.4f}\")\n"
   ]
  },
  {
   "cell_type": "markdown",
   "id": "67b7f55d",
   "metadata": {},
   "source": [
    "xgboost modeliyle daha iyi sonuç elde ettik. bir de catboost deneyelim:"
   ]
  },
  {
   "cell_type": "code",
   "execution_count": 28,
   "id": "b7ccff7e",
   "metadata": {},
   "outputs": [
    {
     "name": "stdout",
     "output_type": "stream",
     "text": [
      "CatBoost Model Sonuçları:\n",
      "Precision: 0.1248\n",
      "Recall:    0.7324\n",
      "F1 Score:  0.2133\n",
      "ROC AUC:   0.9764\n"
     ]
    }
   ],
   "source": [
    "from imblearn.over_sampling import SMOTE\n",
    "from imblearn.pipeline import Pipeline\n",
    "from sklearn.model_selection import StratifiedKFold\n",
    "from sklearn.metrics import precision_score, recall_score, f1_score, roc_auc_score\n",
    "from catboost import CatBoostClassifier\n",
    "import numpy as np\n",
    "\n",
    "# SMOTE ve CatBoost model\n",
    "smote = SMOTE(random_state=10)\n",
    "model = CatBoostClassifier(\n",
    "    random_state=42,\n",
    "    verbose=0,       # Çıktıyı sade tutmak için\n",
    "    iterations=100,  # Eğitim süresini kontrol altında tutmak için\n",
    "    thread_count=2\n",
    ")\n",
    "\n",
    "# Pipeline\n",
    "pipeline = Pipeline([\n",
    "    (\"smote\", smote),\n",
    "    (\"catboost\", model)\n",
    "])\n",
    "\n",
    "# Stratified K-Fold\n",
    "skf = StratifiedKFold(n_splits=5, shuffle=True, random_state=42)\n",
    "\n",
    "# Metrik listeleri\n",
    "precision_scores = []\n",
    "recall_scores = []\n",
    "f1_scores = []\n",
    "roc_auc_scores = []\n",
    "\n",
    "# 🔥 Custom threshold belirle\n",
    "threshold = 0.7\n",
    "\n",
    "# Fold bazlı loop\n",
    "for train_idx, test_idx in skf.split(x, y):\n",
    "    x_train, x_test = x.iloc[train_idx], x.iloc[test_idx]\n",
    "    y_train, y_test = y.iloc[train_idx], y.iloc[test_idx]\n",
    "\n",
    "    pipeline.fit(x_train, y_train)\n",
    "    y_proba = pipeline.predict_proba(x_test)[:, 1]\n",
    "    y_pred = (y_proba >= threshold).astype(int)\n",
    "\n",
    "    precision_scores.append(precision_score(y_test, y_pred, zero_division=0))\n",
    "    recall_scores.append(recall_score(y_test, y_pred, zero_division=0))\n",
    "    f1_scores.append(f1_score(y_test, y_pred, zero_division=0))\n",
    "    roc_auc_scores.append(roc_auc_score(y_test, y_proba))\n",
    "\n",
    "# Ortalama skorlar\n",
    "print(\"CatBoost Model Sonuçları:\")\n",
    "print(f\"Precision: {np.mean(precision_scores):.4f}\")\n",
    "print(f\"Recall:    {np.mean(recall_scores):.4f}\")\n",
    "print(f\"F1 Score:  {np.mean(f1_scores):.4f}\")\n",
    "print(f\"ROC AUC:   {np.mean(roc_auc_scores):.4f}\")\n"
   ]
  },
  {
   "cell_type": "markdown",
   "id": "0482629e",
   "metadata": {},
   "source": [
    "Şimdi sadece oversampling (SMOTE) kullanmadan SMOTE'a ek olarak akıllı undersampling yapan SMOTEENN yöntemini uygulanabilir. Ancak veri boyutunun çok büyük olması nedeniyle bu yöntem pratikte uygulanabilir olmaktan çıktı."
   ]
  },
  {
   "cell_type": "markdown",
   "id": "82aeea11",
   "metadata": {},
   "source": [
    "**Final model**: XGBoost. En iyi F1 skorunu ve presicion değerini Xgboost ile aldık. Model seçimimizi **Xgboost** yapıyoruz."
   ]
  },
  {
   "cell_type": "code",
   "execution_count": 35,
   "id": "136beff9",
   "metadata": {},
   "outputs": [
    {
     "name": "stderr",
     "output_type": "stream",
     "text": [
      "c:\\Users\\qmind\\anaconda3\\Lib\\site-packages\\xgboost\\training.py:183: UserWarning: [22:33:59] WARNING: C:\\actions-runner\\_work\\xgboost\\xgboost\\src\\learner.cc:738: \n",
      "Parameters: { \"use_label_encoder\" } are not used.\n",
      "\n",
      "  bst.update(dtrain, iteration=i, fobj=obj)\n"
     ]
    },
    {
     "data": {
      "image/png": "[encoded data removed]",
      "text/plain": [
       "<Figure size 640x480 with 1 Axes>"
      ]
     },
     "metadata": {},
     "output_type": "display_data"
    }
   ],
   "source": [
    "# Feature Importance yapalım:\n",
    "\n",
    "from xgboost import plot_importance\n",
    "\n",
    "# Eğitilmiş model (örnek)\n",
    "model = XGBClassifier(\n",
    "    objective=\"binary:logistic\",  # Sınıflandırma olduğunu net belirtmiş olursun\n",
    "    random_state=42,\n",
    "    use_label_encoder=False,\n",
    "    eval_metric=\"logloss\"\n",
    ")\n",
    "\n",
    "model.fit(x_train, y_train)\n",
    "\n",
    "# 📊 Feature importance\n",
    "plot_importance(model, max_num_features=15, importance_type=\"gain\")\n",
    "plt.title(\"XGBoost Feature Importance (Top 15)\")\n",
    "plt.show()\n"
   ]
  },
  {
   "cell_type": "markdown",
   "id": "8e029614",
   "metadata": {},
   "source": [
    "--Price 1. sırada çıkmış. yani price'ın yüksek olması fraud olabilir sinyali veriyor.\n",
    "--2. sırada merchant_islem_days cıkmış yani satıcının sisteme yeni girmiş olması fraud riski taşıyor.\n",
    "--Kredi mi debit mi olması fraud olasılığını etkiliyor.\n"
   ]
  },
  {
   "cell_type": "markdown",
   "id": "80de2676",
   "metadata": {},
   "source": [
    "Modelin en çok güvendiği değişkenler price, merchant_islem_days ve card_type gibi hem işlem tutarına hem de satıcı güvenilirliğine işaret eden alanlar oldu. Bu, modelin fraud’un davranışsal ve finansal izlerini doğru öğrendiğini gösteriyor."
   ]
  },
  {
   "cell_type": "code",
   "execution_count": null,
   "id": "c3a9fdee",
   "metadata": {},
   "outputs": [],
   "source": []
  },
  {
   "cell_type": "code",
   "execution_count": null,
   "id": "0e4fcae3",
   "metadata": {},
   "outputs": [],
   "source": []
  },
  {
   "cell_type": "code",
   "execution_count": null,
   "id": "fc195acc",
   "metadata": {},
   "outputs": [],
   "source": []
  },
  {
   "cell_type": "code",
   "execution_count": null,
   "id": "157ce47b",
   "metadata": {},
   "outputs": [],
   "source": []
  },
  {
   "cell_type": "code",
   "execution_count": null,
   "id": "09e4b3ed",
   "metadata": {},
   "outputs": [],
   "source": []
  },
  {
   "cell_type": "code",
   "execution_count": null,
   "id": "930dd8fd",
   "metadata": {},
   "outputs": [],
   "source": []
  },
  {
   "cell_type": "code",
   "execution_count": null,
   "id": "eac9dd33",
   "metadata": {},
   "outputs": [],
   "source": []
  },
  {
   "cell_type": "code",
   "execution_count": null,
   "id": "5a58343f",
   "metadata": {},
   "outputs": [],
   "source": []
  },
  {
   "cell_type": "code",
   "execution_count": null,
   "id": "216e8efa",
   "metadata": {},
   "outputs": [],
   "source": []
  },
  {
   "cell_type": "code",
   "execution_count": null,
   "id": "bb831819",
   "metadata": {},
   "outputs": [],
   "source": []
  }
 ],
 "metadata": {
  "kernelspec": {
   "display_name": "base",
   "language": "python",
   "name": "python3"
  },
  "language_info": {
   "codemirror_mode": {
    "name": "ipython",
    "version": 3
   },
   "file_extension": ".py",
   "mimetype": "text/x-python",
   "name": "python",
   "nbconvert_exporter": "python",
   "pygments_lexer": "ipython3",
   "version": "3.12.7"
  }
 },
 "nbformat": 4,
 "nbformat_minor": 5
}
